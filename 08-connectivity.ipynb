{
 "cells": [
  {
   "cell_type": "markdown",
   "metadata": {
    "nbpresent": {
     "id": "4988daf4-346a-4a15-b8f8-4802ccdfb87b"
    }
   },
   "source": [
    "# Connectivity\n",
    "**V.0.1 - Alpha testing, [contributions](#contributions)**\n",
    "\n",
    "Traditional multivariate fMRI techniques focus on the information present in patterns of activity in localized regions (ROIs or searchlights). Functional connectivity measures help examine information that may be present across two brain regions, focusing on network interaction rather than spatial localization. When performing connectivity analyses, BOLD timeseries are compared across regions (usually with correlation) and the strength of the connection determines their functional connectivity. By including or excluding stimulus/task variables, we can study the modulation of connectivity by different cognitive states.\n",
    "\n",
    "We are going to cover connectivity analysis over the next couple exercises, starting today with more basic ROI-level task-based and background connectivity and continuing after break with whole-brain connectivity analyses.  \n",
    "             \n",
    "For this script we will use a spatial attention dataset from Hutchinson et al. (in prep) that has been preprocessed with motion correction and linear detrending.\n",
    "\n",
    "## Goal of this script\n",
    ">Learn how to run seed-based connectivity analyses.  \n",
    ">Learn to use an atlas to define seeds.  \n",
    ">Learn about how stimulus responses impact connectivity.\n",
    "\n",
    "\n",
    "## Table of Contents\n",
    "[1. Data handling](#data_handling)  \n",
    "[2. Mask the data](#mask)  \n",
    "[3. Create a spherical ROI](#ROI_sphere)  \n",
    "[4. Correlation matrix](#correlation_matrix)  \n",
    "[5. Creating a seed from an atlas](#ROI_atlas)  \n",
    "[6. Compute connectivity across parcels](#parcel_corr)  \n",
    "[7. Background connectivity](#back_conn)  \n",
    "\n",
    "### Exercises:  \n",
    ">[Exercise 1](#ex1)  \n",
    ">[Exercise 2](#ex2)    \n",
    ">[Exercise 3](#ex3)  \n",
    ">[Exercise 4](#ex4)  \n",
    ">[Exercise 5](#ex5)  \n",
    ">[Exercise 6](#ex6)  \n",
    ">[Exercise 7](#ex7)  \n",
    ">[Exercise 8](#ex8)  \n",
    ">[Exercise 9](#ex9)  \n",
    ">[Novel contribution](#novel) "
   ]
  },
  {
   "cell_type": "code",
   "execution_count": 5,
   "metadata": {
    "nbpresent": {
     "id": "1f7f9d75-833f-410f-8988-58c1618fa753"
    }
   },
   "outputs": [
    {
     "name": "stderr",
     "output_type": "stream",
     "text": [
      "/opt/anaconda3/lib/python3.6/site-packages/h5py/__init__.py:36: FutureWarning: Conversion of the second argument of issubdtype from `float` to `np.floating` is deprecated. In future, it will be treated as `np.float64 == np.dtype(float).type`.\n",
      "  from ._conv import register_converters as _register_converters\n"
     ]
    }
   ],
   "source": [
    "import nibabel as nib\n",
    "import numpy as np\n",
    "from nilearn.input_data import NiftiMasker, NiftiLabelsMasker\n",
    "from nilearn import plotting\n",
    "from nilearn import datasets\n",
    "from nilearn.connectome import ConnectivityMeasure\n",
    "from scipy import stats\n",
    "from scipy.ndimage.measurements import center_of_mass\n",
    "import matplotlib.pyplot as plt\n",
    "import pandas as pd\n",
    "import brainiak.utils.fmrisim as sim\n",
    "from brainiak.fcma.util import compute_correlation\n",
    "from nilearn import input_data\n",
    "import time\n",
    "%matplotlib inline"
   ]
  },
  {
   "cell_type": "markdown",
   "metadata": {},
   "source": [
    "### 1. Data handling <a id=\"data_handling\"></a>\n",
    "\n",
    "The dataset we will be using was collected as part of a recently published study ([Hutchinson et al., 2016, JoCN](https://www.ncbi.nlm.nih.gov/pubmed/26439270)). A paper reporting the application of connectivity analyses to this dataset is being prepared for journal submission. Below find the README file describing the dataset."
   ]
  },
  {
   "cell_type": "code",
   "execution_count": 6,
   "metadata": {},
   "outputs": [],
   "source": [
    "# Where are the data stored\n",
    "dir='/opt/public_FMRI/latatt/'"
   ]
  },
  {
   "cell_type": "markdown",
   "metadata": {},
   "source": [
    "**Self-Study:** Explore the data\n",
    "\n",
    "**Exercise 1**:<a id=\"ex1\"></a> Carefully read the README file in dir. What are two differences between bg_image and raw_hires?\n",
    "\n",
    "**A:**"
   ]
  },
  {
   "cell_type": "markdown",
   "metadata": {},
   "source": [
    "In this dataset, participants attend to a stimulus on either the left or right side of the visual field. We will examine how such spatial attention impacts functional connectivity.\n",
    "\n",
    "As with previous datasets, let's prepare the preprocessed data for analysis, here of subject #1."
   ]
  },
  {
   "cell_type": "code",
   "execution_count": 6,
   "metadata": {},
   "outputs": [],
   "source": [
    "# Where is the data found\n",
    "dir_time = dir + 'onsets/fsl'  \n",
    "dir_motion = dir + 'processed_data/motionnuisance/'\n",
    "dir_motion_global = dir + 'processed_data/motionnuisanceglobal/'\n",
    "\n",
    "sub = 'sub1'\n",
    "num_runs = 1\n",
    "TR = 1.5\n",
    "scan_duration = 540\n",
    "\n",
    "# Shift the data a certain amount\n",
    "shift_size = 0"
   ]
  },
  {
   "cell_type": "markdown",
   "metadata": {},
   "source": [
    "We are going to set up a function to allow us to shift the labels to take into consideration the hemodynamic lag. However, we are not actually going to shift the labels here because we care about the build-up in hemodynamic activity which is lost if we implement a lag."
   ]
  },
  {
   "cell_type": "code",
   "execution_count": 7,
   "metadata": {},
   "outputs": [],
   "source": [
    "# Create a function to shift the labels\n",
    "def shift_timing(label_TR, TR_shift_size):\n",
    "    \n",
    "    # Create a short vector of extra zeros\n",
    "    zero_shift = np.zeros((TR_shift_size, 1))\n",
    "\n",
    "    # Zero pad the column from the top.\n",
    "    label_TR_shifted = np.vstack((zero_shift, label_TR))\n",
    "\n",
    "    # Don't include the last rows that have been shifted out of the time line.\n",
    "    label_TR_shifted = label_TR_shifted[0:label_TR.shape[0],0]\n",
    "    \n",
    "    return label_TR_shifted"
   ]
  },
  {
   "cell_type": "markdown",
   "metadata": {},
   "source": [
    "We need to retrieve the labels from the FSL onsets file. [The function for doing this](http://brainiak.org/docs/brainiak.utils.html#brainiak.utils.fmrisim.generate_stimfunction)\n",
    "is already defined in BrainIAK. To set up the data appropriately, we first call BrainIAKs \"generate_stimfunction\" function, then we use the \"shift_timing\" function that we defined above.\n",
    "\n",
    "**Self-study:** What does generate_stimfunction do?"
   ]
  },
  {
   "cell_type": "code",
   "execution_count": 8,
   "metadata": {},
   "outputs": [],
   "source": [
    "# Use the utilities from the simulator to create an event time course based on an FSL onset file\n",
    "\n",
    "right_stimfunction = sim.generate_stimfunction(onsets='', \n",
    "                                               event_durations='', \n",
    "                                               total_time=scan_duration,\n",
    "                                               temporal_resolution=1/TR, \n",
    "                                               timing_file=(dir_time + '/%s/right.txt' % (sub)),\n",
    "                                               )\n",
    "\n",
    "left_stimfunction  = sim.generate_stimfunction(onsets='', \n",
    "                                               event_durations='', \n",
    "                                               total_time=scan_duration,\n",
    "                                               temporal_resolution=1/TR, \n",
    "                                               timing_file=(dir_time + '/%s/left.txt' % (sub)),\n",
    "                                               )\n",
    "\n",
    "# Shift the timecourses to account for the hemodynamic lag\n",
    "right_stim_lag = shift_timing(right_stimfunction, shift_size)\n",
    "left_stim_lag = shift_timing(left_stimfunction, shift_size)\n",
    "\n",
    "# Get the nifti object\n",
    "nii = nib.load(dir_motion + '%s.nii.gz' % (sub))"
   ]
  },
  {
   "cell_type": "markdown",
   "metadata": {},
   "source": [
    "This dataset has two conditions: attend left and attend right. Let's visualize their timecourse."
   ]
  },
  {
   "cell_type": "code",
   "execution_count": 9,
   "metadata": {},
   "outputs": [
    {
     "data": {
      "image/png": "[encoded data removed]",
      "text/plain": [
       "<Figure size 432x288 with 1 Axes>"
      ]
     },
     "metadata": {},
     "output_type": "display_data"
    }
   ],
   "source": [
    "# Plot the stim time course. Assign the second stiumulus a different label (e.g. label =2)\n",
    "plt.plot(right_stim_lag)\n",
    "plt.plot(left_stim_lag)\n",
    "plt.yticks([], '')\n",
    "plt.xlabel('Timepoints')\n",
    "\n",
    "plt.legend(('Attend Right', 'Attend Left'),\n",
    "           loc='upper right')\n",
    "plt.ylim(0, 1.5)\n",
    "plt.show()"
   ]
  },
  {
   "cell_type": "markdown",
   "metadata": {},
   "source": [
    "### 2.  Mask the data <a id=\"mask\"></a>\n",
    "\n",
    "Extract all voxels in the whole brain and all timepoints assigned to a condition using the [nilearn masking procedure](http://nilearn.github.io/modules/generated/nilearn.input_data.NiftiMasker.html) and then z-score the data. Now let's take a first look at the data."
   ]
  },
  {
   "cell_type": "code",
   "execution_count": 10,
   "metadata": {},
   "outputs": [
    {
     "data": {
      "image/png": "[encoded data removed]",
      "text/plain": [
       "<Figure size 432x288 with 1 Axes>"
      ]
     },
     "metadata": {},
     "output_type": "display_data"
    }
   ],
   "source": [
    "# Create a masker object that also standardizes the data\n",
    "brain_masker = input_data.NiftiMasker(standardize=True,  # Are you going to zscore the data across time?\n",
    "                                      t_r=1.5, \n",
    "                                      memory='nilearn_cache',  # Caches the mask in the directory given as a string here so that it is easier to load and retrieve\n",
    "                                      memory_level=1,  # How much memory will you cache?\n",
    "                                      verbose=0,\n",
    "                                     )\n",
    "\n",
    "# Pull out the time course for voxel\n",
    "brain_time_series = brain_masker.fit_transform(nii)\n",
    "boldWB_rightstim = brain_time_series[(right_stim_lag==1),:]\n",
    "\n",
    "# Plot the timeseries for a few voxels\n",
    "plt.title('Whole brain sample voxels for rightward trials');\n",
    "plt.plot(boldWB_rightstim[:,[10, 100, 1000]]);\n",
    "plt.ylabel('Evoked activity');\n",
    "plt.xlabel('Timepoints');"
   ]
  },
  {
   "cell_type": "markdown",
   "metadata": {},
   "source": [
    "### 3. Create a spherical ROI  <a id=\"ROI_sphere\"></a>\n",
    "\n",
    "Let's create an ROI to define the parahippocampal place area (PPA), a scene selective region, which is likely important since scene stimuli were presented. The data are currently in MNI space, a standardized anatomical space that allows us to compare individual anatomy to a common, averaged space and use coordinates in MNI space to identify regions (approximately) in individual participants.\n",
    "\n",
    "**Exercise 2:**<a id=\"ex2\"></a> [Neurosynth](http://neurosynth.org/) is an excellent resource for determining seeds and ROIs. Go to this website and report the peak coordinates for the two most significant clusters from the search term \"Scenes\" using reverse inference. We are going to use the peak from the left hemisphere, plug these coordinates into ppa_coords below. What is the difference between voxels that are above threshold for the \"reverse inference\" analysis compared to the \"forward inference\" analysis? \n",
    "\n",
    "**A:**"
   ]
  },
  {
   "cell_type": "code",
   "execution_count": 11,
   "metadata": {},
   "outputs": [],
   "source": [
    "# Specify the center of the ROI\n",
    "ppa_coords = [()]"
   ]
  },
  {
   "cell_type": "markdown",
   "metadata": {},
   "source": [
    "Nilearn has some powerful tools for drawing ROIs. These functions allow you to flexibly identify ROIs of any shape and have multiple parameters that allow for smoothing, detrending, filtering and standardization. However, it is easy to get things wrong with these functions so use these parameters cautiously. We will play it safe and use the most basic sphere ROI using the [NiftiSpheresMasker function from nilearn](http://nilearn.github.io/modules/generated/nilearn.input_data.NiftiSpheresMasker.html)."
   ]
  },
  {
   "cell_type": "code",
   "execution_count": 12,
   "metadata": {},
   "outputs": [
    {
     "ename": "ValueError",
     "evalue": "Seeds must be a list of triplets of coordinates in native space.\nSeed #0 is of length 0 instead of 3.",
     "output_type": "error",
     "traceback": [
      "\u001b[0;31m---------------------------------------------------------------------------\u001b[0m",
      "\u001b[0;31mValueError\u001b[0m                                Traceback (most recent call last)",
      "\u001b[0;32m<ipython-input-12-1c052f6f3976>\u001b[0m in \u001b[0;36m<module>\u001b[0;34m()\u001b[0m\n\u001b[1;32m      9\u001b[0m \u001b[0;34m\u001b[0m\u001b[0m\n\u001b[1;32m     10\u001b[0m \u001b[0;31m# Mask the epi data and get a time series for the ROI\u001b[0m\u001b[0;34m\u001b[0m\u001b[0;34m\u001b[0m\u001b[0m\n\u001b[0;32m---> 11\u001b[0;31m \u001b[0mseed_time_series\u001b[0m \u001b[0;34m=\u001b[0m \u001b[0mseed_masker\u001b[0m\u001b[0;34m.\u001b[0m\u001b[0mfit_transform\u001b[0m\u001b[0;34m(\u001b[0m\u001b[0mnii\u001b[0m\u001b[0;34m)\u001b[0m\u001b[0;34m\u001b[0m\u001b[0m\n\u001b[0m\u001b[1;32m     12\u001b[0m \u001b[0;34m\u001b[0m\u001b[0m\n\u001b[1;32m     13\u001b[0m \u001b[0;31m# Plot the data from the seed region for both attention condition\u001b[0m\u001b[0;34m\u001b[0m\u001b[0;34m\u001b[0m\u001b[0m\n",
      "\u001b[0;32m/opt/anaconda3/lib/python3.6/site-packages/nilearn/input_data/nifti_spheres_masker.py\u001b[0m in \u001b[0;36mfit_transform\u001b[0;34m(self, imgs, confounds)\u001b[0m\n\u001b[1;32m    273\u001b[0m     \u001b[0;32mdef\u001b[0m \u001b[0mfit_transform\u001b[0m\u001b[0;34m(\u001b[0m\u001b[0mself\u001b[0m\u001b[0;34m,\u001b[0m \u001b[0mimgs\u001b[0m\u001b[0;34m,\u001b[0m \u001b[0mconfounds\u001b[0m\u001b[0;34m=\u001b[0m\u001b[0;32mNone\u001b[0m\u001b[0;34m)\u001b[0m\u001b[0;34m:\u001b[0m\u001b[0;34m\u001b[0m\u001b[0m\n\u001b[1;32m    274\u001b[0m         \u001b[0;34m\"\"\"Prepare and perform signal extraction\"\"\"\u001b[0m\u001b[0;34m\u001b[0m\u001b[0m\n\u001b[0;32m--> 275\u001b[0;31m         \u001b[0;32mreturn\u001b[0m \u001b[0mself\u001b[0m\u001b[0;34m.\u001b[0m\u001b[0mfit\u001b[0m\u001b[0;34m(\u001b[0m\u001b[0;34m)\u001b[0m\u001b[0;34m.\u001b[0m\u001b[0mtransform\u001b[0m\u001b[0;34m(\u001b[0m\u001b[0mimgs\u001b[0m\u001b[0;34m,\u001b[0m \u001b[0mconfounds\u001b[0m\u001b[0;34m=\u001b[0m\u001b[0mconfounds\u001b[0m\u001b[0;34m)\u001b[0m\u001b[0;34m\u001b[0m\u001b[0m\n\u001b[0m\u001b[1;32m    276\u001b[0m \u001b[0;34m\u001b[0m\u001b[0m\n\u001b[1;32m    277\u001b[0m     \u001b[0;32mdef\u001b[0m \u001b[0m_check_fitted\u001b[0m\u001b[0;34m(\u001b[0m\u001b[0mself\u001b[0m\u001b[0;34m)\u001b[0m\u001b[0;34m:\u001b[0m\u001b[0;34m\u001b[0m\u001b[0m\n",
      "\u001b[0;32m/opt/anaconda3/lib/python3.6/site-packages/nilearn/input_data/nifti_spheres_masker.py\u001b[0m in \u001b[0;36mfit\u001b[0;34m(self, X, y)\u001b[0m\n\u001b[1;32m    265\u001b[0m             \u001b[0;32mif\u001b[0m \u001b[0mlen\u001b[0m\u001b[0;34m(\u001b[0m\u001b[0mseed\u001b[0m\u001b[0;34m)\u001b[0m \u001b[0;34m!=\u001b[0m \u001b[0;36m3\u001b[0m\u001b[0;34m:\u001b[0m\u001b[0;34m\u001b[0m\u001b[0m\n\u001b[1;32m    266\u001b[0m                 raise ValueError(error + \"Seed #%i is of length %i \"\n\u001b[0;32m--> 267\u001b[0;31m                                  \"instead of 3.\" % (i, len(seed)))\n\u001b[0m\u001b[1;32m    268\u001b[0m \u001b[0;34m\u001b[0m\u001b[0m\n\u001b[1;32m    269\u001b[0m             \u001b[0mself\u001b[0m\u001b[0;34m.\u001b[0m\u001b[0mseeds_\u001b[0m\u001b[0;34m.\u001b[0m\u001b[0mappend\u001b[0m\u001b[0;34m(\u001b[0m\u001b[0mseed\u001b[0m\u001b[0;34m)\u001b[0m\u001b[0;34m\u001b[0m\u001b[0m\n",
      "\u001b[0;31mValueError\u001b[0m: Seeds must be a list of triplets of coordinates in native space.\nSeed #0 is of length 0 instead of 3."
     ]
    }
   ],
   "source": [
    "# Create the masking object\n",
    "seed_masker = input_data.NiftiSpheresMasker(ppa_coords, \n",
    "                                            radius=8,\n",
    "                                            standardize=True,\n",
    "                                            t_r=2.,\n",
    "                                            memory='nilearn_cache', \n",
    "                                            memory_level=1, \n",
    "                                            verbose=0)\n",
    "\n",
    "# Mask the epi data and get a time series for the ROI\n",
    "seed_time_series = seed_masker.fit_transform(nii)\n",
    "\n",
    "# Plot the data from the seed region for both attention condition\n",
    "boldSeed_rightstim = seed_time_series[right_stim_lag == 1, :]\n",
    "boldSeed_leftstim = seed_time_series[left_stim_lag == 1, :]\n",
    "plt.title('Left PPA ROI activity for right and left attention conditions')\n",
    "plt.plot(boldSeed_rightstim, 'b');\n",
    "plt.plot(boldSeed_leftstim, 'r');\n",
    "plt.legend(('right att', 'left att'));\n",
    "plt.ylabel('Evoked activity');\n",
    "plt.xlabel('Timepoints');\n",
    "\n",
    "print(\"seed time series shape: (%s, %s)\" % boldSeed_rightstim.shape)\n",
    "print(\"brain time series shape: (%s, %s)\" % boldWB_rightstim.shape)"
   ]
  },
  {
   "cell_type": "markdown",
   "metadata": {},
   "source": [
    "### 4. Correlation matrix  <a id=\"correlation_matrix\"></a>\n",
    "\n",
    "We previously encountered correlation matrices in the exercise on pattern similarity. Each cell in those matrices corresponded to the spatial correlation of the pattern of activity for a pair of stimuli or tasks. We will again be using correlation matrices, but now for assessing functional connectivity. Each cell in these matrices reflects the correlation of the BOLD timeseries between a pair of voxels or regions, and matrices can be calculated separately for each condition or even each trial.\n",
    "\n",
    "Below we go through a slow loop-based way of calculating the correlation of every voxel in the brain with the PPA seed region. We will revisit optimized ways of calculating correlations in the next exercise."
   ]
  },
  {
   "cell_type": "code",
   "execution_count": null,
   "metadata": {},
   "outputs": [],
   "source": [
    "# Correlate seed with every brain voxel. Loop through and extract data for every voxel.\n",
    "start_time = time.time()\n",
    "voxels = boldWB_rightstim.shape[1]\n",
    "all_corr = np.zeros((voxels, 1))\n",
    "for voxel_counter in range(voxels):    \n",
    "    corr = np.corrcoef(boldSeed_rightstim[:,0], boldWB_rightstim[:, voxel_counter])[0, 1]\n",
    "    all_corr[voxel_counter, 0] = corr\n",
    "\n",
    "end_time = time.time()\n",
    "print('Analysis duration for %d voxels: %0.2fs' % (voxels, (end_time - start_time)))"
   ]
  },
  {
   "cell_type": "markdown",
   "metadata": {},
   "source": [
    "We are going to be calculating seed-based correlations throughout this notebook, so let's make a function. It is also common to transform the correlations to a Fisher-Z score, as the bounded nature of Pearson correlation violates certain statistical assumptions. This generally does not have a big effect on the results."
   ]
  },
  {
   "cell_type": "code",
   "execution_count": null,
   "metadata": {
    "collapsed": true
   },
   "outputs": [],
   "source": [
    "def seed_correlation(wbBold, seedBold):\n",
    "    voxels = wbBold.shape[1]\n",
    "    seed_corr = np.zeros((voxels, 1))\n",
    "    for voxel_counter in range(voxels):    \n",
    "        seed_corr[voxel_counter, 0] = np.corrcoef(seedBold[:,0], wbBold[:, voxel_counter])[0, 1]\n",
    "        \n",
    "    # Transfrom the correlation values to Fisher z-scores    \n",
    "    seed_corr_fishZ = np.arctanh(seed_corr)\n",
    "    \n",
    "    return seed_corr, seed_corr_fishZ"
   ]
  },
  {
   "cell_type": "code",
   "execution_count": null,
   "metadata": {},
   "outputs": [],
   "source": [
    "# Let's use the function and print out the range of results\n",
    "ppa_rtstim_corr, ppa_rtstim_corr_fz  = seed_correlation(boldWB_rightstim, boldSeed_rightstim)\n",
    "\n",
    "print(\"seed-based correlation Fisher-z transformed: min = %.3f; max = %.3f\" % (\n",
    "    ppa_rtstim_corr_fz.min(),\n",
    "    ppa_rtstim_corr_fz.max()))\n",
    "\n",
    "# We can tranform the correlation array back to a Nifti image object that we can save\n",
    "ppa_rtstim_corr_img = brain_masker.inverse_transform(ppa_rtstim_corr.T)\n",
    "ppa_rtstim_corr_img.to_filename('seed_rtstim.nii.gz')"
   ]
  },
  {
   "cell_type": "code",
   "execution_count": null,
   "metadata": {},
   "outputs": [],
   "source": [
    "# Let's also visualize the correlation of the seed with every voxel\n",
    "\n",
    "# A histogram is always a useful first way of looking at your data.\n",
    "plt.hist(ppa_rtstim_corr_fz)\n",
    "plt.ylabel('Frequency');\n",
    "plt.xlabel('Fisher-z score');\n",
    "\n",
    "# Nilearn has useful tools for plotting our results as a map\n",
    "h1 = plotting.plot_stat_map(ppa_rtstim_corr_img, \n",
    "                            threshold=0.5,\n",
    "                            cut_coords=ppa_coords[0])\n",
    "\n",
    "# Add the seed\n",
    "h1.add_markers(marker_coords=ppa_coords, \n",
    "               marker_color='g',\n",
    "               marker_size=50)\n",
    "\n",
    "# Create a glass brain\n",
    "plotting.plot_glass_brain(ppa_rtstim_corr_img, \n",
    "                          threshold=0.5,\n",
    "                          colorbar=True, \n",
    "                          plot_abs=False)"
   ]
  },
  {
   "cell_type": "markdown",
   "metadata": {},
   "source": [
    "**Exercise 3:**<a id=\"ex3\"></a> Compute and plot the correlation with the left PPA when participants are attending to the scene in the left visual field.\n"
   ]
  },
  {
   "cell_type": "code",
   "execution_count": null,
   "metadata": {
    "collapsed": true
   },
   "outputs": [],
   "source": [
    "# Insert code here\n"
   ]
  },
  {
   "cell_type": "markdown",
   "metadata": {},
   "source": [
    "\n",
    "**Exercise 4:**<a id=\"ex4\"></a> Create a spherical ROI corresponding to the right PPA from Neurosynth. Compute correlations across the whole brain in both conditions and plot your results."
   ]
  },
  {
   "cell_type": "code",
   "execution_count": null,
   "metadata": {
    "collapsed": true
   },
   "outputs": [],
   "source": [
    "# Insert code here\n"
   ]
  },
  {
   "cell_type": "markdown",
   "metadata": {},
   "source": [
    "### 5. Creating a seed from an atlas  <a id=\"ROI_atlas\"></a>\n",
    "\n",
    "In addition to creating our own seed ROIs, we can use available atlases to extract ROIs and compare correlations. Nilearn provides an easy way to accomplish this. To summarize up front:\n",
    "1. [Use Nilearn to import an atlas parcellation](http://nilearn.github.io/modules/reference.html#module-nilearn.datasets). This will download and save in your home directory by default. \n",
    "2. Explore the atlas: plot the different parcels and get their labels.\n",
    "3. Choose one parcel as the seed and extract BOLD signal from our dataset.\n",
    "4. Perform correlation."
   ]
  },
  {
   "cell_type": "code",
   "execution_count": null,
   "metadata": {},
   "outputs": [],
   "source": [
    "atlas = datasets.fetch_atlas_harvard_oxford('cort-maxprob-thr25-2mm')\n",
    "atlas_filename = atlas.maps\n",
    "\n",
    "# This is where the atlas is saved.\n",
    "print(\"Atlas path: \" + atlas_filename + \"\\n\\n\")\n",
    "\n",
    "# Create a Pandas dataframe of the atlas data for easy inspection.\n",
    "atlas_pd = pd.DataFrame(atlas)\n",
    "\n",
    "# Plot the ROIs\n",
    "plotting.plot_roi(atlas_filename);\n",
    "print('Harvard-Oxford cortical atlas')"
   ]
  },
  {
   "cell_type": "code",
   "execution_count": null,
   "metadata": {
    "scrolled": true
   },
   "outputs": [],
   "source": [
    "# Print the labels\n",
    "# Note that Label #35 is the Parahippocampal Gyrus, posterior division. Label 0 (Background) refers to the brain image, not background connectivity\n",
    "print(atlas_pd['labels'])"
   ]
  },
  {
   "cell_type": "code",
   "execution_count": null,
   "metadata": {},
   "outputs": [],
   "source": [
    "# Create a masker object that we can use to select ROIs\n",
    "masker = NiftiLabelsMasker(labels_img=atlas_filename)\n",
    "print(masker)\n",
    "\n",
    "# Apply our atlas to the Nifti object so we can pull out data from single parcels/ROIs\n",
    "parcel_time_series = masker.fit_transform(nii)"
   ]
  },
  {
   "cell_type": "markdown",
   "metadata": {},
   "source": [
    "In previous analyses we calculated the average activity in a single seed region across time. However, Nilearn has tools to easily calculate the timecourse of activity across all of the ROIs that are supplied to the masker object."
   ]
  },
  {
   "cell_type": "code",
   "execution_count": null,
   "metadata": {},
   "outputs": [],
   "source": [
    "# Get data for rightward attention only\n",
    "boldParcel_rightstim = parcel_time_series[(right_stim_lag==1),:]\n",
    "\n",
    "# What does our data structure look like?\n",
    "print(\"Parcellated dimensionality: %d timepoints by %d ROIs\" % parcel_time_series.shape)\n",
    "print(\"Parcellated dimensionality for rightward attention trials: %d timepoints by %d ROIs\" % boldParcel_rightstim.shape)\n",
    "\n",
    "# Pull out a single ROI corresponding to the posterior parahippocampal cortex\n",
    "boldAtlasSeed_rightstim = np.array(boldParcel_rightstim[:, 35])\n",
    "boldAtlasSeed_rightstim = boldAtlasSeed_rightstim.reshape(boldAtlasSeed_rightstim.shape[0],-1)\n",
    "print(\"Dimensionality for posterior PPA (region 35) rightward attention trials: %d timepoints by %d ROIs\" % boldAtlasSeed_rightstim.shape)\n",
    "plt.figure()\n",
    "plt.plot(boldAtlasSeed_rightstim)\n",
    "plt.ylabel('Evoked activity');\n",
    "plt.xlabel('Timepoints');"
   ]
  },
  {
   "cell_type": "code",
   "execution_count": null,
   "metadata": {},
   "outputs": [],
   "source": [
    "# Like before we want to correlate the whole brain time course witht the seed we have pulled out\n",
    "phg_corr_rtstim, phg_corr_rtstim_fz = seed_correlation(boldWB_rightstim, boldAtlasSeed_rightstim) \n",
    "\n",
    "# Save the nifti image\n",
    "phg_corr_rtstim_fz_img = brain_masker.inverse_transform(\n",
    "    phg_corr_rtstim_fz.T)\n",
    "phg_corr_rtstim_fz_img.to_filename('sbc_z.nii.gz')\n",
    "\n",
    "# Print the range of correlations.\n",
    "print(\"PHG correlation Fisher-z transformed: min = %.3f; max = %.3f\" % (\n",
    "    phg_corr_rtstim_fz.min(),\n",
    "    phg_corr_rtstim_fz.max()))\n",
    "\n",
    "# Plot a histogram\n",
    "plt.hist(phg_corr_rtstim_fz)\n",
    "plt.ylabel('Frequency');\n",
    "plt.xlabel('Fisher-z score');\n",
    "\n",
    "# Plot the correlation as a map on a standard brain. \n",
    "# For comparison, we also plot the position of the sphere we created ealier.\n",
    "h2 = plotting.plot_stat_map(phg_corr_rtstim_fz_img, \n",
    "                            threshold=0.5,\n",
    "                            cut_coords=ppa_coords[0],\n",
    "                           )\n",
    "\n",
    "h2.add_markers(marker_coords=ppa_coords, \n",
    "               marker_color='g',\n",
    "               marker_size=50)\n"
   ]
  },
  {
   "cell_type": "markdown",
   "metadata": {},
   "source": [
    "### 6. Compute connectivity across parcels <a id=\"parcel_corr\"></a>\n",
    "\n",
    "In addition to one ROI, we can compute correlations across multiple brain regions. [Nilearn has a function](http://nilearn.github.io/modules/reference.html#module-nilearn.connectome) to do this quite easily."
   ]
  },
  {
   "cell_type": "code",
   "execution_count": null,
   "metadata": {},
   "outputs": [],
   "source": [
    "# Set up the connectivity object\n",
    "correlation_measure = ConnectivityMeasure(kind='correlation')\n",
    "\n",
    "# Calculate the correlation of each parcel with every other parcel\n",
    "correlation_matrix = correlation_measure.fit_transform([boldParcel_rightstim])[0]\n",
    "\n",
    "# Remove the diagonal for visualization (guaranteed to be 1.0)\n",
    "np.fill_diagonal(correlation_matrix, np.nan)\n",
    "\n",
    "# Plot the correlation matrix\n",
    "# The labels of the Harvard-Oxford Cortical Atlas that we are using \n",
    "# start with the background (0), hence we skip the first label\n",
    "fig=plt.figure(figsize=(9,8))\n",
    "plt.imshow(correlation_matrix, interpolation='None')\n",
    "plt.yticks(range(len(atlas.labels)), atlas.labels[1:]);\n",
    "plt.xticks(range(len(atlas.labels)), atlas.labels[1:], rotation=90);\n",
    "plt.title('Parcellation correlation matrix')\n",
    "plt.colorbar()\n",
    "\n",
    "# Alternatively, we could use Nilearn's own plotting function\n",
    "plotting.plot_matrix(correlation_matrix, \n",
    "                     figure=(10, 8), \n",
    "                     labels=atlas.labels[1:],\n",
    "                     vmax=1, \n",
    "                     vmin=0)"
   ]
  },
  {
   "cell_type": "markdown",
   "metadata": {},
   "source": [
    "**Exercise 5:**<a id=\"ex5\"></a> Use a parcel from the parietal lobe as a seed and compute the **voxelwise** correlation across the brain for the attend left and attend right conditions. Are there any connectivity differences between these conditions? Remember this is only one subject and so it is difficult to test this statistically. Use [`plotting.find_xyz_cut_coords`](http://nilearn.github.io/modules/generated/nilearn.plotting.find_xyz_cut_coords.html#nilearn.plotting.find_xyz_cut_coords) to find the center of the parcel and then use `cut_coords`  and `marker_coords` in your plotting function to center on the seed."
   ]
  },
  {
   "cell_type": "code",
   "execution_count": null,
   "metadata": {
    "collapsed": true
   },
   "outputs": [],
   "source": [
    "# Insert code here\n"
   ]
  },
  {
   "cell_type": "markdown",
   "metadata": {},
   "source": [
    "### 7. Background connectivity <a id=\"back_conn\"></a>\n",
    "\n",
    "Beyond functional connectivity that is driven by stimulus-related activation, you might also want to analyze background connectivity, to find out more about cognitive states that underlie a given task. To learn more about background connectivity, see this [review by Nicholas Turk-Browne (2013, Science)](https://doi.org/10.1126/science.1238409)\n",
    "In background connectivity analysis, stimulus-driven activation is not the desired effect of interest, but a confound. Thus, now we need to remove \"stimulus confounds\" before continuing. Lucky for us, the dataset in the directory motionnuisanceglobal has already had the evoked activity regressed out in FSL with a GLM. We'll repeat the previous analyses for the left PPA on these data."
   ]
  },
  {
   "cell_type": "code",
   "execution_count": null,
   "metadata": {},
   "outputs": [],
   "source": [
    "# Load in the data\n",
    "epi_in_mcg = (dir_motion_global + '%s.nii.gz' % (sub))\n",
    "seed_time_series_mcg = seed_masker.fit_transform(epi_in_mcg)\n",
    "boldSeed_rtstim_mcg = seed_time_series_mcg[right_stim_lag==1,:]\n",
    "boldWB_mcg = brain_masker.fit_transform(epi_in_mcg)\n",
    "boldWB_rtstim_mcg = boldWB_mcg[right_stim_lag==1,:] \n",
    "\n",
    "# plot the data\n",
    "plt.plot(boldSeed_rtstim_mcg)\n",
    "plt.ylabel('BOLD signal, standardized')\n",
    "plt.xlabel('TRs of right attention blocks')\n",
    "plt.title('Background activity in seed region')"
   ]
  },
  {
   "cell_type": "code",
   "execution_count": null,
   "metadata": {},
   "outputs": [],
   "source": [
    "# Calculate the voxelwise seed-based correlation\n",
    "ppa_corr_rtstim_mcg, ppa_corr_rtstim_fz_mcg  = seed_correlation(boldWB_rtstim_mcg, boldSeed_rtstim_mcg)\n",
    "\n",
    "print(\"PHG correlation Fisher-z transformed: min = %.3f; max = %.3f\" % (\n",
    "    ppa_corr_rtstim_fz_mcg.min(),\n",
    "    ppa_corr_rtstim_fz_mcg.max()))\n",
    "\n",
    "\n",
    "# Plot the correlation of each voxel in the brain with the seed\n",
    "ppa_corr_rtstim_mcg_img = brain_masker.inverse_transform(ppa_corr_rtstim_mcg.T)\n",
    "\n",
    "h3 = plotting.plot_stat_map(ppa_corr_rtstim_mcg_img, \n",
    "                            threshold=0.5,\n",
    "                            cut_coords=ppa_coords[0])\n",
    "\n",
    "h3.add_markers(marker_coords=ppa_coords, \n",
    "               marker_color='g',\n",
    "               marker_size=50)\n",
    "\n",
    "plotting.plot_glass_brain(ppa_corr_rtstim_mcg_img, \n",
    "                          threshold=0.5,\n",
    "                          colorbar=True, \n",
    "                          plot_abs=False)"
   ]
  },
  {
   "cell_type": "markdown",
   "metadata": {},
   "source": [
    "**Exercise 6:**<a id=\"ex6\"></a> Compare background connectivity to the original left PPA spherical ROI result. Why is there less and cleaner connectivity overall?\n",
    "\n",
    "**A:**"
   ]
  },
  {
   "cell_type": "code",
   "execution_count": null,
   "metadata": {},
   "outputs": [],
   "source": [
    "# Parcellate the time course to get the background connectivity parcels\n",
    "parcel_time_series_mcg = masker.fit_transform(epi_in_mcg)\n",
    "boldParcel_rightstim_mcg = parcel_time_series_mcg[right_stim_lag==1, :]\n",
    "\n",
    "correlation_matrix_mcg = correlation_measure.fit_transform([boldParcel_rightstim_mcg])[0]\n",
    "\n",
    "# Remove the diagonal for visualization (guaranteed to be 1.0)\n",
    "np.fill_diagonal(correlation_matrix_mcg, np.nan)\n",
    "\n",
    "# Plot the correlation matrix\n",
    "fig=plt.figure(figsize=(9,8))\n",
    "\n",
    "# The labels we have start with the background (0), hence we skip the first label\n",
    "plt.title('Background connnectivity correlation for parcellation')\n",
    "plt.imshow(correlation_matrix_mcg, interpolation='None')\n",
    "plt.yticks(range(len(atlas.labels)), atlas.labels[1:]);\n",
    "plt.xticks(range(len(atlas.labels)), atlas.labels[1:], rotation=90);\n",
    "plt.colorbar()"
   ]
  },
  {
   "cell_type": "markdown",
   "metadata": {},
   "source": [
    "**Exercise 7:**<a id=\"ex7\"></a> Use a different atlas [(use `datasets.fetch\\_`)](http://nilearn.github.io/modules/reference.html#module-nilearn.datasets) and look through other available atlases) and recompute the background connectivity matrix for both attend left and attend right conditions. Use an atlas that distinguishes ROIs between the left and right hemispheres and rearrange the labels so that all the ROIs from a hemisphere are grouped. Why might it be important to separate the hemispheres?"
   ]
  },
  {
   "cell_type": "code",
   "execution_count": null,
   "metadata": {},
   "outputs": [],
   "source": [
    "# Insert code here\n"
   ]
  },
  {
   "cell_type": "markdown",
   "metadata": {},
   "source": [
    "**Exercise 8:**<a id=\"ex8\"></a> Calculate and store the two matrices above (one for each attention condition) for all 30 participants. Plot the average across participants for each condition."
   ]
  },
  {
   "cell_type": "code",
   "execution_count": null,
   "metadata": {
    "collapsed": true
   },
   "outputs": [],
   "source": [
    "# Insert code here\n"
   ]
  },
  {
   "cell_type": "markdown",
   "metadata": {},
   "source": [
    "**Exercise 9:**<a id=\"ex9\"></a> For each participant, calculate the difference between their matrix for left attention and the matrix for right attention. You should now have 30 difference matrices. This allows you to conduct a simple statistical test of how reliably left vs. right attention affects background connectivity between parcels in the sample. We will use a one-sample t-test for this purpose, which requires two inputs: (1) the average difference matrix across participants and (2) the standard error of the difference matrix across participants (standard deviation matrix divided by root df). Compute and plot a t-statistic matrix by dividing the average difference matrix by the standard error matrix. Summarize in words which regions' connectivity (if any) distinguishes attention conditions."
   ]
  },
  {
   "cell_type": "code",
   "execution_count": null,
   "metadata": {
    "collapsed": true
   },
   "outputs": [],
   "source": [
    "# Insert code here\n"
   ]
  },
  {
   "cell_type": "markdown",
   "metadata": {},
   "source": [
    "**Plotting a connectome** \n",
    "\n",
    "Nilearn has some beautiful tools for plotting connectomes. [`plotting.plot_connectome`](http://nilearn.github.io/modules/generated/nilearn.plotting.plot_connectome.html) takes in the node by node correlation matrix and a node by coordinate matrix and then creates a connectome. Thresholds can be used to only show strong connections. \n",
    "\n",
    "**Self-study:** Building on the code below, play around with [`plotting.plot_connectome`](http://nilearn.github.io/modules/generated/nilearn.plotting.plot_connectome.html) to make it work."
   ]
  },
  {
   "cell_type": "code",
   "execution_count": null,
   "metadata": {},
   "outputs": [],
   "source": [
    "# Load the atlas\n",
    "atlas_nii = nib.load(atlas_filename)\n",
    "atlas_data = atlas_nii.get_data()\n",
    "labels = np.unique(atlas_data)\n",
    "\n",
    "# Iterate through all of the ROIs\n",
    "coords = []\n",
    "for label_id in labels:\n",
    "    \n",
    "    # Skip the background\n",
    "    if label_id == 0:\n",
    "        continue\n",
    "        \n",
    "    # Pull out the ROI of within the mask    \n",
    "    roi_mask = (atlas_data == label_id)\n",
    "    \n",
    "    # Create as a nifti object so it can be read by the cut coords algorithm\n",
    "    nii = nib.Nifti1Image(roi_mask.astype('int16'), atlas_nii.affine)\n",
    "    \n",
    "    # Find the centre of mass of the connectome\n",
    "    coords.append(plotting.find_xyz_cut_coords(nii))\n",
    "    \n",
    "# Plot the connectome\n",
    "plotting.plot_connectome(correlation_matrix_mcg, coords, edge_threshold='95%')"
   ]
  },
  {
   "cell_type": "markdown",
   "metadata": {},
   "source": [
    "**Novel contribution:** <a id=\"novel\"></a> be creative and make one new discovery by adding an analysis, visualization, or optimization."
   ]
  },
  {
   "cell_type": "markdown",
   "metadata": {},
   "source": [
    "## Contributions <a id=\"contributions\"></a>\n",
    "\n",
    "B. Hutchinson provided data and provided initial code  \n",
    "M. Kumar, C. Ellis and N. Turk-Browne produced the initial notebook 3/15/18  "
   ]
  }
 ],
 "metadata": {
  "anaconda-cloud": {},
  "celltoolbar": "Edit Metadata",
  "kernelspec": {
   "display_name": "Python 3",
   "language": "python",
   "name": "python3"
  },
  "language_info": {
   "codemirror_mode": {
    "name": "ipython",
    "version": 3
   },
   "file_extension": ".py",
   "mimetype": "text/x-python",
   "name": "python",
   "nbconvert_exporter": "python",
   "pygments_lexer": "ipython3",
   "version": "3.6.4"
  }
 },
 "nbformat": 4,
 "nbformat_minor": 2
}
